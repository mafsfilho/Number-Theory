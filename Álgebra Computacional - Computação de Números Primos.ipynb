{
 "cells": [
  {
   "cell_type": "markdown",
   "id": "2ca4b084",
   "metadata": {},
   "source": [
    "## Bibliotecas"
   ]
  },
  {
   "cell_type": "code",
   "execution_count": 61,
   "id": "eb7586fd",
   "metadata": {},
   "outputs": [],
   "source": [
    "import random"
   ]
  },
  {
   "cell_type": "markdown",
   "id": "f8119210",
   "metadata": {},
   "source": [
    "## Congruências"
   ]
  },
  {
   "cell_type": "code",
   "execution_count": 133,
   "id": "5d3f740b",
   "metadata": {},
   "outputs": [],
   "source": [
    "def teste_congruencia(a, b, n):\n",
    "    \n",
    "    # a, b pertencem ao conjunto dos números inteiros\n",
    "    assert((a % 2 == 0) or ((a - 1) % 2 == 0))\n",
    "    assert((b % 2 == 0) or ((b - 1) % 2 == 0))\n",
    "    \n",
    "    # n pertence ao conjunto dos números naturais\n",
    "    assert(((n % 2 == 0) or ((n - 1) % 2 == 0)) and n > 1)\n",
    "    \n",
    "    # testa a congruência entre dois números a partir da definição de congruências\n",
    "    if (a - b) % n == 0:\n",
    "        print(\"{} e {} são congruentes módulo {}.\".format(a, b, n))\n",
    "    \n",
    "    else:\n",
    "        print(\"{} e {} não são congruentes módulo {}.\".format(a, b, n))"
   ]
  },
  {
   "cell_type": "code",
   "execution_count": 136,
   "id": "c918aa4f",
   "metadata": {},
   "outputs": [
    {
     "name": "stdout",
     "output_type": "stream",
     "text": [
      "21 e 10 não são congruentes módulo 2.\n"
     ]
    }
   ],
   "source": [
    "teste_congruencia(21, 10, 2)"
   ]
  },
  {
   "cell_type": "markdown",
   "id": "ad00ad6f",
   "metadata": {},
   "source": [
    "## Pequeno Teorema de Fermat"
   ]
  },
  {
   "cell_type": "markdown",
   "id": "fc340f5e",
   "metadata": {},
   "source": [
    "#### Quando a base 'a' ou o número 'n' são muito grandes, a função torna-se ineficiente."
   ]
  },
  {
   "cell_type": "code",
   "execution_count": 120,
   "id": "7e5245b5",
   "metadata": {},
   "outputs": [],
   "source": [
    "def PTF(n):\n",
    "    \n",
    "    # n pertence ao conjunto dos números naturais maiores que 1:\n",
    "    assert(((n % 2 == 0) or ((n - 1) % 2 == 0)) and n > 1)\n",
    "    \n",
    "    i = 0 # indexador\n",
    "    composto = [] # bases para as quais o número 'n' é composto\n",
    "    pseudoprimo = [] # bases para as quais o número 'n' é primo\n",
    "    \n",
    "    # o número n terá sua primalidade testada para 20 bases:\n",
    "    while i < 20:\n",
    "        \n",
    "        # escolhe aleatóriamente uma base 'a'\n",
    "        a = random.randint(0, 1000000)\n",
    "        \n",
    "        # testa se a ** n é congruente a a (mod n)\n",
    "        # se não for, adiciona a base à lista 'composto' e para a função\n",
    "        if ((a ** n) - a) % n != 0:\n",
    "            composto.append(a)\n",
    "            break\n",
    "        \n",
    "        # se for, adiciona a base à lista 'pseudoprimo'\n",
    "        else:\n",
    "            pseudoprimo.append(a)\n",
    "        \n",
    "        i += 1\n",
    "    \n",
    "    # conta a quantidade de bases para as quais o número 'n' é composto\n",
    "    # se for diferente de 0, o número é composto\n",
    "    # caso contrário, é dito pseudoprimo e são mostradas as bases para as quais ele foi testado\n",
    "    if len(composto) != 0:\n",
    "        return \"{} é composto.\".format(n)\n",
    "    \n",
    "    else:\n",
    "        return \"{} é pseudoprimo para as bases: {}\".format(n, pseudoprimo)"
   ]
  },
  {
   "cell_type": "code",
   "execution_count": 121,
   "id": "f5c6448e",
   "metadata": {},
   "outputs": [
    {
     "data": {
      "text/plain": [
       "'97159 é pseudoprimo para as bases: [20188, 4561, 897245, 593349, 145121, 199080, 533503, 643889, 144905, 986067, 25543, 111365, 290304, 871596, 692083, 45868, 900964, 903292, 521356, 918555]'"
      ]
     },
     "execution_count": 121,
     "metadata": {},
     "output_type": "execute_result"
    }
   ],
   "source": [
    "PTF(97159)"
   ]
  }
 ],
 "metadata": {
  "kernelspec": {
   "display_name": "Python 3 (ipykernel)",
   "language": "python",
   "name": "python3"
  },
  "language_info": {
   "codemirror_mode": {
    "name": "ipython",
    "version": 3
   },
   "file_extension": ".py",
   "mimetype": "text/x-python",
   "name": "python",
   "nbconvert_exporter": "python",
   "pygments_lexer": "ipython3",
   "version": "3.9.13"
  }
 },
 "nbformat": 4,
 "nbformat_minor": 5
}
